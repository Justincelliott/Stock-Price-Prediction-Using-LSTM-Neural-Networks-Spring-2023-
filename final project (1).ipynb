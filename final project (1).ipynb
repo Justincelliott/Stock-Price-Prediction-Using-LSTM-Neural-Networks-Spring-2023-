{
 "cells": [
  {
   "cell_type": "code",
   "execution_count": 1,
   "id": "6d54d238",
   "metadata": {},
   "outputs": [],
   "source": [
    "#!pip install tensorflow keras\n"
   ]
  },
  {
   "cell_type": "code",
   "execution_count": 2,
   "id": "deb9da1b",
   "metadata": {},
   "outputs": [],
   "source": [
    "import yfinance as yf\n",
    "import numpy as np  \n",
    "import pandas as pd\n",
    "import matplotlib.pyplot as plt\n",
    "from sklearn.preprocessing import MinMaxScaler\n",
    "from keras.layers import Dense, Dropout, LSTM\n",
    "from keras.models import Sequential"
   ]
  },
  {
   "cell_type": "code",
   "execution_count": 4,
   "id": "e29f2345",
   "metadata": {},
   "outputs": [
    {
     "name": "stdout",
     "output_type": "stream",
     "text": [
      "[*********************100%***********************]  3 of 3 completed\n"
     ]
    }
   ],
   "source": [
    "#I tried to implement more stocks but i could only do 1 at a time for the final result\n",
    "stock_symbol = 'AAPL','MSFT', 'GOOGL'\n",
    "df = yf.download(tickers=stock_symbol, period='3y', interval='1d')"
   ]
  },
  {
   "cell_type": "code",
   "execution_count": null,
   "id": "91998fde",
   "metadata": {},
   "outputs": [],
   "source": []
  },
  {
   "cell_type": "code",
   "execution_count": 5,
   "id": "48a8a3b7",
   "metadata": {
    "scrolled": true
   },
   "outputs": [
    {
     "data": {
      "text/html": [
       "<div>\n",
       "<style scoped>\n",
       "    .dataframe tbody tr th:only-of-type {\n",
       "        vertical-align: middle;\n",
       "    }\n",
       "\n",
       "    .dataframe tbody tr th {\n",
       "        vertical-align: top;\n",
       "    }\n",
       "\n",
       "    .dataframe thead tr th {\n",
       "        text-align: left;\n",
       "    }\n",
       "\n",
       "    .dataframe thead tr:last-of-type th {\n",
       "        text-align: right;\n",
       "    }\n",
       "</style>\n",
       "<table border=\"1\" class=\"dataframe\">\n",
       "  <thead>\n",
       "    <tr>\n",
       "      <th></th>\n",
       "      <th colspan=\"3\" halign=\"left\">Adj Close</th>\n",
       "      <th colspan=\"3\" halign=\"left\">Close</th>\n",
       "      <th colspan=\"3\" halign=\"left\">High</th>\n",
       "      <th colspan=\"3\" halign=\"left\">Low</th>\n",
       "      <th colspan=\"3\" halign=\"left\">Open</th>\n",
       "      <th colspan=\"3\" halign=\"left\">Volume</th>\n",
       "    </tr>\n",
       "    <tr>\n",
       "      <th></th>\n",
       "      <th>AAPL</th>\n",
       "      <th>GOOGL</th>\n",
       "      <th>MSFT</th>\n",
       "      <th>AAPL</th>\n",
       "      <th>GOOGL</th>\n",
       "      <th>MSFT</th>\n",
       "      <th>AAPL</th>\n",
       "      <th>GOOGL</th>\n",
       "      <th>MSFT</th>\n",
       "      <th>AAPL</th>\n",
       "      <th>GOOGL</th>\n",
       "      <th>MSFT</th>\n",
       "      <th>AAPL</th>\n",
       "      <th>GOOGL</th>\n",
       "      <th>MSFT</th>\n",
       "      <th>AAPL</th>\n",
       "      <th>GOOGL</th>\n",
       "      <th>MSFT</th>\n",
       "    </tr>\n",
       "    <tr>\n",
       "      <th>Date</th>\n",
       "      <th></th>\n",
       "      <th></th>\n",
       "      <th></th>\n",
       "      <th></th>\n",
       "      <th></th>\n",
       "      <th></th>\n",
       "      <th></th>\n",
       "      <th></th>\n",
       "      <th></th>\n",
       "      <th></th>\n",
       "      <th></th>\n",
       "      <th></th>\n",
       "      <th></th>\n",
       "      <th></th>\n",
       "      <th></th>\n",
       "      <th></th>\n",
       "      <th></th>\n",
       "      <th></th>\n",
       "    </tr>\n",
       "  </thead>\n",
       "  <tbody>\n",
       "    <tr>\n",
       "      <th>2020-05-11</th>\n",
       "      <td>77.426285</td>\n",
       "      <td>70.179497</td>\n",
       "      <td>181.586411</td>\n",
       "      <td>78.752502</td>\n",
       "      <td>70.179497</td>\n",
       "      <td>186.740005</td>\n",
       "      <td>79.262497</td>\n",
       "      <td>70.776497</td>\n",
       "      <td>187.509995</td>\n",
       "      <td>76.809998</td>\n",
       "      <td>68.775002</td>\n",
       "      <td>182.850006</td>\n",
       "      <td>77.025002</td>\n",
       "      <td>68.839500</td>\n",
       "      <td>183.149994</td>\n",
       "      <td>145946400</td>\n",
       "      <td>32718000</td>\n",
       "      <td>30892700</td>\n",
       "    </tr>\n",
       "    <tr>\n",
       "      <th>2020-05-12</th>\n",
       "      <td>76.541435</td>\n",
       "      <td>68.759003</td>\n",
       "      <td>177.473129</td>\n",
       "      <td>77.852501</td>\n",
       "      <td>68.759003</td>\n",
       "      <td>182.509995</td>\n",
       "      <td>79.922501</td>\n",
       "      <td>70.716499</td>\n",
       "      <td>187.039993</td>\n",
       "      <td>77.727501</td>\n",
       "      <td>68.725502</td>\n",
       "      <td>182.300003</td>\n",
       "      <td>79.457497</td>\n",
       "      <td>70.411003</td>\n",
       "      <td>186.800003</td>\n",
       "      <td>162301200</td>\n",
       "      <td>33918000</td>\n",
       "      <td>32038200</td>\n",
       "    </tr>\n",
       "    <tr>\n",
       "      <th>2020-05-13</th>\n",
       "      <td>75.617271</td>\n",
       "      <td>67.416496</td>\n",
       "      <td>174.789307</td>\n",
       "      <td>76.912498</td>\n",
       "      <td>67.416496</td>\n",
       "      <td>179.750000</td>\n",
       "      <td>78.987503</td>\n",
       "      <td>69.266502</td>\n",
       "      <td>184.050003</td>\n",
       "      <td>75.802498</td>\n",
       "      <td>66.400497</td>\n",
       "      <td>176.539993</td>\n",
       "      <td>78.037498</td>\n",
       "      <td>68.807999</td>\n",
       "      <td>182.550003</td>\n",
       "      <td>200622400</td>\n",
       "      <td>40368000</td>\n",
       "      <td>44711500</td>\n",
       "    </tr>\n",
       "    <tr>\n",
       "      <th>2020-05-14</th>\n",
       "      <td>76.081818</td>\n",
       "      <td>67.843002</td>\n",
       "      <td>175.547775</td>\n",
       "      <td>77.385002</td>\n",
       "      <td>67.843002</td>\n",
       "      <td>180.529999</td>\n",
       "      <td>77.447502</td>\n",
       "      <td>67.868500</td>\n",
       "      <td>180.690002</td>\n",
       "      <td>75.382500</td>\n",
       "      <td>66.165001</td>\n",
       "      <td>175.679993</td>\n",
       "      <td>76.127502</td>\n",
       "      <td>66.676003</td>\n",
       "      <td>177.539993</td>\n",
       "      <td>158929200</td>\n",
       "      <td>36660000</td>\n",
       "      <td>41873900</td>\n",
       "    </tr>\n",
       "    <tr>\n",
       "      <th>2020-05-15</th>\n",
       "      <td>75.632019</td>\n",
       "      <td>68.653000</td>\n",
       "      <td>178.105225</td>\n",
       "      <td>76.927498</td>\n",
       "      <td>68.653000</td>\n",
       "      <td>183.160004</td>\n",
       "      <td>76.974998</td>\n",
       "      <td>68.728996</td>\n",
       "      <td>187.059998</td>\n",
       "      <td>75.052498</td>\n",
       "      <td>66.949997</td>\n",
       "      <td>177.000000</td>\n",
       "      <td>75.087502</td>\n",
       "      <td>67.413002</td>\n",
       "      <td>179.059998</td>\n",
       "      <td>166348400</td>\n",
       "      <td>41544000</td>\n",
       "      <td>46610400</td>\n",
       "    </tr>\n",
       "  </tbody>\n",
       "</table>\n",
       "</div>"
      ],
      "text/plain": [
       "            Adj Close                             Close             \\\n",
       "                 AAPL      GOOGL        MSFT       AAPL      GOOGL   \n",
       "Date                                                                 \n",
       "2020-05-11  77.426285  70.179497  181.586411  78.752502  70.179497   \n",
       "2020-05-12  76.541435  68.759003  177.473129  77.852501  68.759003   \n",
       "2020-05-13  75.617271  67.416496  174.789307  76.912498  67.416496   \n",
       "2020-05-14  76.081818  67.843002  175.547775  77.385002  67.843002   \n",
       "2020-05-15  75.632019  68.653000  178.105225  76.927498  68.653000   \n",
       "\n",
       "                             High                               Low  \\\n",
       "                  MSFT       AAPL      GOOGL        MSFT       AAPL   \n",
       "Date                                                                  \n",
       "2020-05-11  186.740005  79.262497  70.776497  187.509995  76.809998   \n",
       "2020-05-12  182.509995  79.922501  70.716499  187.039993  77.727501   \n",
       "2020-05-13  179.750000  78.987503  69.266502  184.050003  75.802498   \n",
       "2020-05-14  180.529999  77.447502  67.868500  180.690002  75.382500   \n",
       "2020-05-15  183.160004  76.974998  68.728996  187.059998  75.052498   \n",
       "\n",
       "                                        Open                         \\\n",
       "                GOOGL        MSFT       AAPL      GOOGL        MSFT   \n",
       "Date                                                                  \n",
       "2020-05-11  68.775002  182.850006  77.025002  68.839500  183.149994   \n",
       "2020-05-12  68.725502  182.300003  79.457497  70.411003  186.800003   \n",
       "2020-05-13  66.400497  176.539993  78.037498  68.807999  182.550003   \n",
       "2020-05-14  66.165001  175.679993  76.127502  66.676003  177.539993   \n",
       "2020-05-15  66.949997  177.000000  75.087502  67.413002  179.059998   \n",
       "\n",
       "               Volume                      \n",
       "                 AAPL     GOOGL      MSFT  \n",
       "Date                                       \n",
       "2020-05-11  145946400  32718000  30892700  \n",
       "2020-05-12  162301200  33918000  32038200  \n",
       "2020-05-13  200622400  40368000  44711500  \n",
       "2020-05-14  158929200  36660000  41873900  \n",
       "2020-05-15  166348400  41544000  46610400  "
      ]
     },
     "execution_count": 5,
     "metadata": {},
     "output_type": "execute_result"
    }
   ],
   "source": [
    "type(df)\n",
    "df.head()"
   ]
  },
  {
   "cell_type": "code",
   "execution_count": null,
   "id": "5dcb8a4b",
   "metadata": {},
   "outputs": [],
   "source": []
  },
  {
   "cell_type": "code",
   "execution_count": 43,
   "id": "f74f8f35",
   "metadata": {
    "scrolled": true
   },
   "outputs": [
    {
     "data": {
      "text/html": [
       "<div>\n",
       "<style scoped>\n",
       "    .dataframe tbody tr th:only-of-type {\n",
       "        vertical-align: middle;\n",
       "    }\n",
       "\n",
       "    .dataframe tbody tr th {\n",
       "        vertical-align: top;\n",
       "    }\n",
       "\n",
       "    .dataframe thead th {\n",
       "        text-align: right;\n",
       "    }\n",
       "</style>\n",
       "<table border=\"1\" class=\"dataframe\">\n",
       "  <thead>\n",
       "    <tr style=\"text-align: right;\">\n",
       "      <th></th>\n",
       "      <th>Open</th>\n",
       "      <th>High</th>\n",
       "      <th>Low</th>\n",
       "      <th>Close</th>\n",
       "      <th>Adj Close</th>\n",
       "      <th>Volume</th>\n",
       "    </tr>\n",
       "    <tr>\n",
       "      <th>Date</th>\n",
       "      <th></th>\n",
       "      <th></th>\n",
       "      <th></th>\n",
       "      <th></th>\n",
       "      <th></th>\n",
       "      <th></th>\n",
       "    </tr>\n",
       "  </thead>\n",
       "  <tbody>\n",
       "    <tr>\n",
       "      <th>2023-05-03</th>\n",
       "      <td>169.500000</td>\n",
       "      <td>170.919998</td>\n",
       "      <td>167.160004</td>\n",
       "      <td>167.449997</td>\n",
       "      <td>167.449997</td>\n",
       "      <td>65136000</td>\n",
       "    </tr>\n",
       "    <tr>\n",
       "      <th>2023-05-04</th>\n",
       "      <td>164.889999</td>\n",
       "      <td>167.039993</td>\n",
       "      <td>164.309998</td>\n",
       "      <td>165.789993</td>\n",
       "      <td>165.789993</td>\n",
       "      <td>81235400</td>\n",
       "    </tr>\n",
       "    <tr>\n",
       "      <th>2023-05-05</th>\n",
       "      <td>170.979996</td>\n",
       "      <td>174.300003</td>\n",
       "      <td>170.759995</td>\n",
       "      <td>173.570007</td>\n",
       "      <td>173.570007</td>\n",
       "      <td>113316400</td>\n",
       "    </tr>\n",
       "    <tr>\n",
       "      <th>2023-05-08</th>\n",
       "      <td>172.479996</td>\n",
       "      <td>173.850006</td>\n",
       "      <td>172.110001</td>\n",
       "      <td>173.500000</td>\n",
       "      <td>173.500000</td>\n",
       "      <td>55962800</td>\n",
       "    </tr>\n",
       "    <tr>\n",
       "      <th>2023-05-09</th>\n",
       "      <td>173.050003</td>\n",
       "      <td>173.539993</td>\n",
       "      <td>171.600006</td>\n",
       "      <td>171.770004</td>\n",
       "      <td>171.770004</td>\n",
       "      <td>45285300</td>\n",
       "    </tr>\n",
       "  </tbody>\n",
       "</table>\n",
       "</div>"
      ],
      "text/plain": [
       "                  Open        High         Low       Close   Adj Close  \\\n",
       "Date                                                                     \n",
       "2023-05-03  169.500000  170.919998  167.160004  167.449997  167.449997   \n",
       "2023-05-04  164.889999  167.039993  164.309998  165.789993  165.789993   \n",
       "2023-05-05  170.979996  174.300003  170.759995  173.570007  173.570007   \n",
       "2023-05-08  172.479996  173.850006  172.110001  173.500000  173.500000   \n",
       "2023-05-09  173.050003  173.539993  171.600006  171.770004  171.770004   \n",
       "\n",
       "               Volume  \n",
       "Date                   \n",
       "2023-05-03   65136000  \n",
       "2023-05-04   81235400  \n",
       "2023-05-05  113316400  \n",
       "2023-05-08   55962800  \n",
       "2023-05-09   45285300  "
      ]
     },
     "execution_count": 43,
     "metadata": {},
     "output_type": "execute_result"
    }
   ],
   "source": [
    "df.tail()"
   ]
  },
  {
   "cell_type": "code",
   "execution_count": 44,
   "id": "268ad47b",
   "metadata": {
    "scrolled": true
   },
   "outputs": [
    {
     "data": {
      "text/html": [
       "<div>\n",
       "<style scoped>\n",
       "    .dataframe tbody tr th:only-of-type {\n",
       "        vertical-align: middle;\n",
       "    }\n",
       "\n",
       "    .dataframe tbody tr th {\n",
       "        vertical-align: top;\n",
       "    }\n",
       "\n",
       "    .dataframe thead th {\n",
       "        text-align: right;\n",
       "    }\n",
       "</style>\n",
       "<table border=\"1\" class=\"dataframe\">\n",
       "  <thead>\n",
       "    <tr style=\"text-align: right;\">\n",
       "      <th></th>\n",
       "      <th>Date</th>\n",
       "      <th>Open</th>\n",
       "      <th>High</th>\n",
       "      <th>Low</th>\n",
       "      <th>Close</th>\n",
       "      <th>Adj Close</th>\n",
       "      <th>Volume</th>\n",
       "    </tr>\n",
       "  </thead>\n",
       "  <tbody>\n",
       "    <tr>\n",
       "      <th>0</th>\n",
       "      <td>2008-05-12</td>\n",
       "      <td>6.614643</td>\n",
       "      <td>6.745357</td>\n",
       "      <td>6.530357</td>\n",
       "      <td>6.720000</td>\n",
       "      <td>5.719513</td>\n",
       "      <td>818563200</td>\n",
       "    </tr>\n",
       "    <tr>\n",
       "      <th>1</th>\n",
       "      <td>2008-05-13</td>\n",
       "      <td>6.736071</td>\n",
       "      <td>6.837500</td>\n",
       "      <td>6.709286</td>\n",
       "      <td>6.784286</td>\n",
       "      <td>5.774229</td>\n",
       "      <td>823236400</td>\n",
       "    </tr>\n",
       "    <tr>\n",
       "      <th>2</th>\n",
       "      <td>2008-05-14</td>\n",
       "      <td>6.829643</td>\n",
       "      <td>6.865714</td>\n",
       "      <td>6.627500</td>\n",
       "      <td>6.652143</td>\n",
       "      <td>5.661762</td>\n",
       "      <td>916823600</td>\n",
       "    </tr>\n",
       "    <tr>\n",
       "      <th>3</th>\n",
       "      <td>2008-05-15</td>\n",
       "      <td>6.671786</td>\n",
       "      <td>6.782143</td>\n",
       "      <td>6.578571</td>\n",
       "      <td>6.776071</td>\n",
       "      <td>5.767239</td>\n",
       "      <td>873208000</td>\n",
       "    </tr>\n",
       "    <tr>\n",
       "      <th>4</th>\n",
       "      <td>2008-05-16</td>\n",
       "      <td>6.789643</td>\n",
       "      <td>6.796429</td>\n",
       "      <td>6.678571</td>\n",
       "      <td>6.700714</td>\n",
       "      <td>5.703100</td>\n",
       "      <td>765769200</td>\n",
       "    </tr>\n",
       "  </tbody>\n",
       "</table>\n",
       "</div>"
      ],
      "text/plain": [
       "        Date      Open      High       Low     Close  Adj Close     Volume\n",
       "0 2008-05-12  6.614643  6.745357  6.530357  6.720000   5.719513  818563200\n",
       "1 2008-05-13  6.736071  6.837500  6.709286  6.784286   5.774229  823236400\n",
       "2 2008-05-14  6.829643  6.865714  6.627500  6.652143   5.661762  916823600\n",
       "3 2008-05-15  6.671786  6.782143  6.578571  6.776071   5.767239  873208000\n",
       "4 2008-05-16  6.789643  6.796429  6.678571  6.700714   5.703100  765769200"
      ]
     },
     "execution_count": 44,
     "metadata": {},
     "output_type": "execute_result"
    }
   ],
   "source": [
    "df=df.reset_index()\n",
    "df.head()"
   ]
  },
  {
   "cell_type": "code",
   "execution_count": 45,
   "id": "66948b71",
   "metadata": {},
   "outputs": [],
   "source": [
    "df=df.drop(['Date','Adj Close'], axis =1)\n"
   ]
  },
  {
   "cell_type": "code",
   "execution_count": 46,
   "id": "a6a21d7e",
   "metadata": {},
   "outputs": [
    {
     "data": {
      "text/html": [
       "<div>\n",
       "<style scoped>\n",
       "    .dataframe tbody tr th:only-of-type {\n",
       "        vertical-align: middle;\n",
       "    }\n",
       "\n",
       "    .dataframe tbody tr th {\n",
       "        vertical-align: top;\n",
       "    }\n",
       "\n",
       "    .dataframe thead th {\n",
       "        text-align: right;\n",
       "    }\n",
       "</style>\n",
       "<table border=\"1\" class=\"dataframe\">\n",
       "  <thead>\n",
       "    <tr style=\"text-align: right;\">\n",
       "      <th></th>\n",
       "      <th>Open</th>\n",
       "      <th>High</th>\n",
       "      <th>Low</th>\n",
       "      <th>Close</th>\n",
       "      <th>Volume</th>\n",
       "    </tr>\n",
       "  </thead>\n",
       "  <tbody>\n",
       "    <tr>\n",
       "      <th>0</th>\n",
       "      <td>6.614643</td>\n",
       "      <td>6.745357</td>\n",
       "      <td>6.530357</td>\n",
       "      <td>6.720000</td>\n",
       "      <td>818563200</td>\n",
       "    </tr>\n",
       "    <tr>\n",
       "      <th>1</th>\n",
       "      <td>6.736071</td>\n",
       "      <td>6.837500</td>\n",
       "      <td>6.709286</td>\n",
       "      <td>6.784286</td>\n",
       "      <td>823236400</td>\n",
       "    </tr>\n",
       "    <tr>\n",
       "      <th>2</th>\n",
       "      <td>6.829643</td>\n",
       "      <td>6.865714</td>\n",
       "      <td>6.627500</td>\n",
       "      <td>6.652143</td>\n",
       "      <td>916823600</td>\n",
       "    </tr>\n",
       "    <tr>\n",
       "      <th>3</th>\n",
       "      <td>6.671786</td>\n",
       "      <td>6.782143</td>\n",
       "      <td>6.578571</td>\n",
       "      <td>6.776071</td>\n",
       "      <td>873208000</td>\n",
       "    </tr>\n",
       "    <tr>\n",
       "      <th>4</th>\n",
       "      <td>6.789643</td>\n",
       "      <td>6.796429</td>\n",
       "      <td>6.678571</td>\n",
       "      <td>6.700714</td>\n",
       "      <td>765769200</td>\n",
       "    </tr>\n",
       "  </tbody>\n",
       "</table>\n",
       "</div>"
      ],
      "text/plain": [
       "       Open      High       Low     Close     Volume\n",
       "0  6.614643  6.745357  6.530357  6.720000  818563200\n",
       "1  6.736071  6.837500  6.709286  6.784286  823236400\n",
       "2  6.829643  6.865714  6.627500  6.652143  916823600\n",
       "3  6.671786  6.782143  6.578571  6.776071  873208000\n",
       "4  6.789643  6.796429  6.678571  6.700714  765769200"
      ]
     },
     "execution_count": 46,
     "metadata": {},
     "output_type": "execute_result"
    }
   ],
   "source": [
    "df.head()"
   ]
  },
  {
   "cell_type": "code",
   "execution_count": 47,
   "id": "33902608",
   "metadata": {},
   "outputs": [
    {
     "data": {
      "text/html": [
       "<div>\n",
       "<style scoped>\n",
       "    .dataframe tbody tr th:only-of-type {\n",
       "        vertical-align: middle;\n",
       "    }\n",
       "\n",
       "    .dataframe tbody tr th {\n",
       "        vertical-align: top;\n",
       "    }\n",
       "\n",
       "    .dataframe thead th {\n",
       "        text-align: right;\n",
       "    }\n",
       "</style>\n",
       "<table border=\"1\" class=\"dataframe\">\n",
       "  <thead>\n",
       "    <tr style=\"text-align: right;\">\n",
       "      <th></th>\n",
       "      <th>Open</th>\n",
       "      <th>High</th>\n",
       "      <th>Low</th>\n",
       "      <th>Close</th>\n",
       "      <th>Volume</th>\n",
       "    </tr>\n",
       "  </thead>\n",
       "  <tbody>\n",
       "    <tr>\n",
       "      <th>3770</th>\n",
       "      <td>169.500000</td>\n",
       "      <td>170.919998</td>\n",
       "      <td>167.160004</td>\n",
       "      <td>167.449997</td>\n",
       "      <td>65136000</td>\n",
       "    </tr>\n",
       "    <tr>\n",
       "      <th>3771</th>\n",
       "      <td>164.889999</td>\n",
       "      <td>167.039993</td>\n",
       "      <td>164.309998</td>\n",
       "      <td>165.789993</td>\n",
       "      <td>81235400</td>\n",
       "    </tr>\n",
       "    <tr>\n",
       "      <th>3772</th>\n",
       "      <td>170.979996</td>\n",
       "      <td>174.300003</td>\n",
       "      <td>170.759995</td>\n",
       "      <td>173.570007</td>\n",
       "      <td>113316400</td>\n",
       "    </tr>\n",
       "    <tr>\n",
       "      <th>3773</th>\n",
       "      <td>172.479996</td>\n",
       "      <td>173.850006</td>\n",
       "      <td>172.110001</td>\n",
       "      <td>173.500000</td>\n",
       "      <td>55962800</td>\n",
       "    </tr>\n",
       "    <tr>\n",
       "      <th>3774</th>\n",
       "      <td>173.050003</td>\n",
       "      <td>173.539993</td>\n",
       "      <td>171.600006</td>\n",
       "      <td>171.770004</td>\n",
       "      <td>45285300</td>\n",
       "    </tr>\n",
       "  </tbody>\n",
       "</table>\n",
       "</div>"
      ],
      "text/plain": [
       "            Open        High         Low       Close     Volume\n",
       "3770  169.500000  170.919998  167.160004  167.449997   65136000\n",
       "3771  164.889999  167.039993  164.309998  165.789993   81235400\n",
       "3772  170.979996  174.300003  170.759995  173.570007  113316400\n",
       "3773  172.479996  173.850006  172.110001  173.500000   55962800\n",
       "3774  173.050003  173.539993  171.600006  171.770004   45285300"
      ]
     },
     "execution_count": 47,
     "metadata": {},
     "output_type": "execute_result"
    }
   ],
   "source": [
    "df.tail()\n"
   ]
  },
  {
   "cell_type": "code",
   "execution_count": 48,
   "id": "19097d49",
   "metadata": {},
   "outputs": [
    {
     "data": {
      "text/plain": [
       "[<matplotlib.lines.Line2D at 0x216bda30430>]"
      ]
     },
     "execution_count": 48,
     "metadata": {},
     "output_type": "execute_result"
    },
    {
     "data": {
      "image/png": "[encoded data removed]",
      "text/plain": [
       "<Figure size 640x480 with 1 Axes>"
      ]
     },
     "metadata": {},
     "output_type": "display_data"
    }
   ],
   "source": [
    "plt.plot(df.Close)\n"
   ]
  },
  {
   "cell_type": "code",
   "execution_count": 49,
   "id": "7152f657",
   "metadata": {
    "scrolled": false
   },
   "outputs": [
    {
     "data": {
      "text/plain": [
       "(3775, 5)"
      ]
     },
     "execution_count": 49,
     "metadata": {},
     "output_type": "execute_result"
    },
    {
     "data": {
      "image/png": "[encoded data removed]",
      "text/plain": [
       "<Figure size 1200x600 with 1 Axes>"
      ]
     },
     "metadata": {},
     "output_type": "display_data"
    }
   ],
   "source": [
    "ma20=df.Close.rolling(20).mean()\n",
    "ma20\n",
    "ma100=df.Close.rolling(100).mean()\n",
    "ma100\n",
    "ma200=df.Close.rolling(200).mean()\n",
    "ma200\n",
    "plt.figure(figsize=(12,6))\n",
    "plt.plot(df.Close)\n",
    "plt.plot(ma200,'g')\n",
    "plt.plot(ma100,'r')\n",
    "plt.plot(ma20,'b')\n",
    "df.shape\n"
   ]
  },
  {
   "cell_type": "code",
   "execution_count": 50,
   "id": "885dc6f8",
   "metadata": {},
   "outputs": [
    {
     "data": {
      "text/plain": [
       "(3775, 5)"
      ]
     },
     "execution_count": 50,
     "metadata": {},
     "output_type": "execute_result"
    }
   ],
   "source": [
    "df.shape\n"
   ]
  },
  {
   "cell_type": "code",
   "execution_count": 51,
   "id": "7c1ffd88",
   "metadata": {},
   "outputs": [
    {
     "name": "stdout",
     "output_type": "stream",
     "text": [
      "(2642, 1)\n",
      "(1133, 1)\n"
     ]
    }
   ],
   "source": [
    "data_training=pd.DataFrame(df['Close'][0:int(len(df)*0.70)])\n",
    "data_testing=pd.DataFrame(df['Close'][int(len(df)*0.70):int(len(df))])\n",
    "print(data_training.shape)\n",
    "print(data_testing.shape)"
   ]
  },
  {
   "cell_type": "code",
   "execution_count": 52,
   "id": "51a8278c",
   "metadata": {},
   "outputs": [
    {
     "data": {
      "text/html": [
       "<div>\n",
       "<style scoped>\n",
       "    .dataframe tbody tr th:only-of-type {\n",
       "        vertical-align: middle;\n",
       "    }\n",
       "\n",
       "    .dataframe tbody tr th {\n",
       "        vertical-align: top;\n",
       "    }\n",
       "\n",
       "    .dataframe thead th {\n",
       "        text-align: right;\n",
       "    }\n",
       "</style>\n",
       "<table border=\"1\" class=\"dataframe\">\n",
       "  <thead>\n",
       "    <tr style=\"text-align: right;\">\n",
       "      <th></th>\n",
       "      <th>Close</th>\n",
       "    </tr>\n",
       "  </thead>\n",
       "  <tbody>\n",
       "    <tr>\n",
       "      <th>0</th>\n",
       "      <td>6.720000</td>\n",
       "    </tr>\n",
       "    <tr>\n",
       "      <th>1</th>\n",
       "      <td>6.784286</td>\n",
       "    </tr>\n",
       "    <tr>\n",
       "      <th>2</th>\n",
       "      <td>6.652143</td>\n",
       "    </tr>\n",
       "    <tr>\n",
       "      <th>3</th>\n",
       "      <td>6.776071</td>\n",
       "    </tr>\n",
       "    <tr>\n",
       "      <th>4</th>\n",
       "      <td>6.700714</td>\n",
       "    </tr>\n",
       "  </tbody>\n",
       "</table>\n",
       "</div>"
      ],
      "text/plain": [
       "      Close\n",
       "0  6.720000\n",
       "1  6.784286\n",
       "2  6.652143\n",
       "3  6.776071\n",
       "4  6.700714"
      ]
     },
     "execution_count": 52,
     "metadata": {},
     "output_type": "execute_result"
    }
   ],
   "source": [
    "data_training.head()"
   ]
  },
  {
   "cell_type": "code",
   "execution_count": 53,
   "id": "3021611c",
   "metadata": {},
   "outputs": [
    {
     "data": {
      "text/plain": [
       "array([[0.07111214],\n",
       "       [0.07227623],\n",
       "       [0.0698834 ],\n",
       "       ...,\n",
       "       [0.95540937],\n",
       "       [0.88868189],\n",
       "       [0.86201808]])"
      ]
     },
     "execution_count": 53,
     "metadata": {},
     "output_type": "execute_result"
    }
   ],
   "source": [
    "scaler=MinMaxScaler(feature_range=(0,1))\n",
    "data_training_array=scaler.fit_transform(data_training)\n",
    "data_training_array"
   ]
  },
  {
   "cell_type": "code",
   "execution_count": 54,
   "id": "de9c2fb4",
   "metadata": {},
   "outputs": [
    {
     "data": {
      "text/plain": [
       "(2642, 1)"
      ]
     },
     "execution_count": 54,
     "metadata": {},
     "output_type": "execute_result"
    }
   ],
   "source": [
    "data_training_array.shape\n"
   ]
  },
  {
   "cell_type": "code",
   "execution_count": 55,
   "id": "26a4a890",
   "metadata": {},
   "outputs": [],
   "source": [
    "x_train=[]\n",
    "y_train=[]\n",
    "\n",
    "for i in range(100, data_training_array.shape[0]):\n",
    "    x_train.append(data_training_array[i-100:i])\n",
    "    y_train.append(data_training_array[i,0])\n",
    "x_train, y_train=np.array(x_train), np.array(y_train)"
   ]
  },
  {
   "cell_type": "code",
   "execution_count": 56,
   "id": "b7487639",
   "metadata": {},
   "outputs": [
    {
     "data": {
      "text/plain": [
       "(2542, 100, 1)"
      ]
     },
     "execution_count": 56,
     "metadata": {},
     "output_type": "execute_result"
    }
   ],
   "source": [
    "x_train.shape\n"
   ]
  },
  {
   "cell_type": "code",
   "execution_count": 57,
   "id": "ee0de8fd",
   "metadata": {},
   "outputs": [],
   "source": [
    "model=Sequential()\n",
    "model.add(LSTM(units=50,activation='relu',return_sequences=True,input_shape=(x_train.shape[1],1)))\n",
    "model.add(Dropout(0.2)) \n",
    "\n",
    "model.add(LSTM(units=60,activation='relu',return_sequences=True))\n",
    "model.add(Dropout(0.3))\n",
    "\n",
    "model.add(LSTM(units=80,activation='relu',return_sequences=True))\n",
    "model.add(Dropout(0.4))\n",
    "model.add(LSTM(units=120,activation='relu'))\n",
    "model.add(Dropout(0.5))\n",
    "\n",
    "model.add(Dense(units=1))"
   ]
  },
  {
   "cell_type": "code",
   "execution_count": 58,
   "id": "fe500cc6",
   "metadata": {},
   "outputs": [
    {
     "name": "stdout",
     "output_type": "stream",
     "text": [
      "Model: \"sequential_1\"\n",
      "_________________________________________________________________\n",
      " Layer (type)                Output Shape              Param #   \n",
      "=================================================================\n",
      " lstm_4 (LSTM)               (None, 100, 50)           10400     \n",
      "                                                                 \n",
      " dropout_4 (Dropout)         (None, 100, 50)           0         \n",
      "                                                                 \n",
      " lstm_5 (LSTM)               (None, 100, 60)           26640     \n",
      "                                                                 \n",
      " dropout_5 (Dropout)         (None, 100, 60)           0         \n",
      "                                                                 \n",
      " lstm_6 (LSTM)               (None, 100, 80)           45120     \n",
      "                                                                 \n",
      " dropout_6 (Dropout)         (None, 100, 80)           0         \n",
      "                                                                 \n",
      " lstm_7 (LSTM)               (None, 120)               96480     \n",
      "                                                                 \n",
      " dropout_7 (Dropout)         (None, 120)               0         \n",
      "                                                                 \n",
      " dense_1 (Dense)             (None, 1)                 121       \n",
      "                                                                 \n",
      "=================================================================\n",
      "Total params: 178,761\n",
      "Trainable params: 178,761\n",
      "Non-trainable params: 0\n",
      "_________________________________________________________________\n"
     ]
    }
   ],
   "source": [
    "model.summary()\n"
   ]
  },
  {
   "cell_type": "code",
   "execution_count": 59,
   "id": "ba12b381",
   "metadata": {},
   "outputs": [
    {
     "name": "stdout",
     "output_type": "stream",
     "text": [
      "Epoch 1/50\n",
      "80/80 [==============================] - 22s 248ms/step - loss: 0.0209\n",
      "Epoch 2/50\n",
      "80/80 [==============================] - 22s 265ms/step - loss: 0.0051\n",
      "Epoch 3/50\n",
      "80/80 [==============================] - 21s 258ms/step - loss: 0.0047\n",
      "Epoch 4/50\n",
      "80/80 [==============================] - 13s 163ms/step - loss: 0.0042\n",
      "Epoch 5/50\n",
      "80/80 [==============================] - 13s 162ms/step - loss: 0.0037\n",
      "Epoch 6/50\n",
      "80/80 [==============================] - 13s 161ms/step - loss: 0.0038\n",
      "Epoch 7/50\n",
      "80/80 [==============================] - 13s 161ms/step - loss: 0.0034\n",
      "Epoch 8/50\n",
      "80/80 [==============================] - 13s 162ms/step - loss: 0.0030\n",
      "Epoch 9/50\n",
      "80/80 [==============================] - 13s 162ms/step - loss: 0.0033\n",
      "Epoch 10/50\n",
      "80/80 [==============================] - 13s 162ms/step - loss: 0.0031\n",
      "Epoch 11/50\n",
      "80/80 [==============================] - 13s 164ms/step - loss: 0.0029\n",
      "Epoch 12/50\n",
      "80/80 [==============================] - 13s 164ms/step - loss: 0.0028\n",
      "Epoch 13/50\n",
      "80/80 [==============================] - 13s 163ms/step - loss: 0.0027\n",
      "Epoch 14/50\n",
      "80/80 [==============================] - 13s 162ms/step - loss: 0.0024\n",
      "Epoch 15/50\n",
      "80/80 [==============================] - 13s 163ms/step - loss: 0.0024\n",
      "Epoch 16/50\n",
      "80/80 [==============================] - 13s 163ms/step - loss: 0.0024\n",
      "Epoch 17/50\n",
      "80/80 [==============================] - 16s 196ms/step - loss: 0.0024\n",
      "Epoch 18/50\n",
      "80/80 [==============================] - 13s 168ms/step - loss: 0.0021\n",
      "Epoch 19/50\n",
      "80/80 [==============================] - 15s 182ms/step - loss: 0.0021\n",
      "Epoch 20/50\n",
      "80/80 [==============================] - 13s 168ms/step - loss: 0.0025\n",
      "Epoch 21/50\n",
      "80/80 [==============================] - 13s 168ms/step - loss: 0.0020\n",
      "Epoch 22/50\n",
      "80/80 [==============================] - 14s 169ms/step - loss: 0.0020\n",
      "Epoch 23/50\n",
      "80/80 [==============================] - 13s 168ms/step - loss: 0.0019\n",
      "Epoch 24/50\n",
      "80/80 [==============================] - 13s 167ms/step - loss: 0.0022\n",
      "Epoch 25/50\n",
      "80/80 [==============================] - 13s 167ms/step - loss: 0.0020\n",
      "Epoch 26/50\n",
      "80/80 [==============================] - 13s 168ms/step - loss: 0.0019\n",
      "Epoch 27/50\n",
      "80/80 [==============================] - 13s 168ms/step - loss: 0.0019\n",
      "Epoch 28/50\n",
      "80/80 [==============================] - 13s 168ms/step - loss: 0.0018\n",
      "Epoch 29/50\n",
      "80/80 [==============================] - 13s 168ms/step - loss: 0.0017\n",
      "Epoch 30/50\n",
      "80/80 [==============================] - 14s 170ms/step - loss: 0.0018\n",
      "Epoch 31/50\n",
      "80/80 [==============================] - 14s 170ms/step - loss: 0.0020\n",
      "Epoch 32/50\n",
      "80/80 [==============================] - 14s 170ms/step - loss: 0.0020\n",
      "Epoch 33/50\n",
      "80/80 [==============================] - 14s 170ms/step - loss: 0.0018\n",
      "Epoch 34/50\n",
      "80/80 [==============================] - 14s 171ms/step - loss: 0.0018\n",
      "Epoch 35/50\n",
      "80/80 [==============================] - 14s 171ms/step - loss: 0.0018\n",
      "Epoch 36/50\n",
      "80/80 [==============================] - 14s 171ms/step - loss: 0.0018\n",
      "Epoch 37/50\n",
      "80/80 [==============================] - 14s 172ms/step - loss: 0.0019\n",
      "Epoch 38/50\n",
      "80/80 [==============================] - 14s 171ms/step - loss: 0.0017\n",
      "Epoch 39/50\n",
      "80/80 [==============================] - 14s 174ms/step - loss: 0.0019\n",
      "Epoch 40/50\n",
      "80/80 [==============================] - 14s 173ms/step - loss: 0.0018\n",
      "Epoch 41/50\n",
      "80/80 [==============================] - 14s 172ms/step - loss: 0.0018\n",
      "Epoch 42/50\n",
      "80/80 [==============================] - 14s 173ms/step - loss: 0.0018\n",
      "Epoch 43/50\n",
      "80/80 [==============================] - 14s 174ms/step - loss: 0.0016\n",
      "Epoch 44/50\n",
      "80/80 [==============================] - 14s 174ms/step - loss: 0.0019\n",
      "Epoch 45/50\n",
      "80/80 [==============================] - 14s 174ms/step - loss: 0.0018\n",
      "Epoch 46/50\n",
      "80/80 [==============================] - 14s 176ms/step - loss: 0.0018\n",
      "Epoch 47/50\n",
      "80/80 [==============================] - 14s 174ms/step - loss: 0.0019\n",
      "Epoch 48/50\n",
      "80/80 [==============================] - 14s 179ms/step - loss: 0.0017\n",
      "Epoch 49/50\n",
      "80/80 [==============================] - 16s 196ms/step - loss: 0.0017\n",
      "Epoch 50/50\n",
      "80/80 [==============================] - 15s 187ms/step - loss: 0.0018\n"
     ]
    },
    {
     "data": {
      "text/plain": [
       "<keras.callbacks.History at 0x216be18f370>"
      ]
     },
     "execution_count": 59,
     "metadata": {},
     "output_type": "execute_result"
    }
   ],
   "source": [
    "model.compile(optimizer='adam', loss='mean_squared_error')\n",
    "model.fit(x_train,y_train,epochs=50)"
   ]
  },
  {
   "cell_type": "code",
   "execution_count": 60,
   "id": "4efd3e1a",
   "metadata": {},
   "outputs": [],
   "source": [
    "model.save('keras_model.h5')\n"
   ]
  },
  {
   "cell_type": "code",
   "execution_count": 61,
   "id": "495f3ae0",
   "metadata": {},
   "outputs": [
    {
     "data": {
      "text/html": [
       "<div>\n",
       "<style scoped>\n",
       "    .dataframe tbody tr th:only-of-type {\n",
       "        vertical-align: middle;\n",
       "    }\n",
       "\n",
       "    .dataframe tbody tr th {\n",
       "        vertical-align: top;\n",
       "    }\n",
       "\n",
       "    .dataframe thead th {\n",
       "        text-align: right;\n",
       "    }\n",
       "</style>\n",
       "<table border=\"1\" class=\"dataframe\">\n",
       "  <thead>\n",
       "    <tr style=\"text-align: right;\">\n",
       "      <th></th>\n",
       "      <th>Close</th>\n",
       "    </tr>\n",
       "  </thead>\n",
       "  <tbody>\n",
       "    <tr>\n",
       "      <th>2642</th>\n",
       "      <td>50.942501</td>\n",
       "    </tr>\n",
       "    <tr>\n",
       "      <th>2643</th>\n",
       "      <td>52.487499</td>\n",
       "    </tr>\n",
       "    <tr>\n",
       "      <th>2644</th>\n",
       "      <td>52.122501</td>\n",
       "    </tr>\n",
       "    <tr>\n",
       "      <th>2645</th>\n",
       "      <td>51.117500</td>\n",
       "    </tr>\n",
       "    <tr>\n",
       "      <th>2646</th>\n",
       "      <td>48.542500</td>\n",
       "    </tr>\n",
       "    <tr>\n",
       "      <th>...</th>\n",
       "      <td>...</td>\n",
       "    </tr>\n",
       "    <tr>\n",
       "      <th>2737</th>\n",
       "      <td>47.117500</td>\n",
       "    </tr>\n",
       "    <tr>\n",
       "      <th>2738</th>\n",
       "      <td>47.180000</td>\n",
       "    </tr>\n",
       "    <tr>\n",
       "      <th>2739</th>\n",
       "      <td>47.487499</td>\n",
       "    </tr>\n",
       "    <tr>\n",
       "      <th>2740</th>\n",
       "      <td>47.810001</td>\n",
       "    </tr>\n",
       "    <tr>\n",
       "      <th>2741</th>\n",
       "      <td>48.505001</td>\n",
       "    </tr>\n",
       "  </tbody>\n",
       "</table>\n",
       "<p>100 rows × 1 columns</p>\n",
       "</div>"
      ],
      "text/plain": [
       "          Close\n",
       "2642  50.942501\n",
       "2643  52.487499\n",
       "2644  52.122501\n",
       "2645  51.117500\n",
       "2646  48.542500\n",
       "...         ...\n",
       "2737  47.117500\n",
       "2738  47.180000\n",
       "2739  47.487499\n",
       "2740  47.810001\n",
       "2741  48.505001\n",
       "\n",
       "[100 rows x 1 columns]"
      ]
     },
     "execution_count": 61,
     "metadata": {},
     "output_type": "execute_result"
    }
   ],
   "source": [
    "data_testing.head(100)\n"
   ]
  },
  {
   "cell_type": "code",
   "execution_count": 62,
   "id": "e3926d09",
   "metadata": {},
   "outputs": [
    {
     "data": {
      "text/html": [
       "<div>\n",
       "<style scoped>\n",
       "    .dataframe tbody tr th:only-of-type {\n",
       "        vertical-align: middle;\n",
       "    }\n",
       "\n",
       "    .dataframe tbody tr th {\n",
       "        vertical-align: top;\n",
       "    }\n",
       "\n",
       "    .dataframe thead th {\n",
       "        text-align: right;\n",
       "    }\n",
       "</style>\n",
       "<table border=\"1\" class=\"dataframe\">\n",
       "  <thead>\n",
       "    <tr style=\"text-align: right;\">\n",
       "      <th></th>\n",
       "      <th>Close</th>\n",
       "    </tr>\n",
       "  </thead>\n",
       "  <tbody>\n",
       "    <tr>\n",
       "      <th>2542</th>\n",
       "      <td>47.209999</td>\n",
       "    </tr>\n",
       "    <tr>\n",
       "      <th>2543</th>\n",
       "      <td>47.185001</td>\n",
       "    </tr>\n",
       "    <tr>\n",
       "      <th>2544</th>\n",
       "      <td>46.422501</td>\n",
       "    </tr>\n",
       "    <tr>\n",
       "      <th>2545</th>\n",
       "      <td>46.625000</td>\n",
       "    </tr>\n",
       "    <tr>\n",
       "      <th>2546</th>\n",
       "      <td>46.365002</td>\n",
       "    </tr>\n",
       "    <tr>\n",
       "      <th>...</th>\n",
       "      <td>...</td>\n",
       "    </tr>\n",
       "    <tr>\n",
       "      <th>2637</th>\n",
       "      <td>53.325001</td>\n",
       "    </tr>\n",
       "    <tr>\n",
       "      <th>2638</th>\n",
       "      <td>54.715000</td>\n",
       "    </tr>\n",
       "    <tr>\n",
       "      <th>2639</th>\n",
       "      <td>55.555000</td>\n",
       "    </tr>\n",
       "    <tr>\n",
       "      <th>2640</th>\n",
       "      <td>51.869999</td>\n",
       "    </tr>\n",
       "    <tr>\n",
       "      <th>2641</th>\n",
       "      <td>50.397499</td>\n",
       "    </tr>\n",
       "  </tbody>\n",
       "</table>\n",
       "<p>100 rows × 1 columns</p>\n",
       "</div>"
      ],
      "text/plain": [
       "          Close\n",
       "2542  47.209999\n",
       "2543  47.185001\n",
       "2544  46.422501\n",
       "2545  46.625000\n",
       "2546  46.365002\n",
       "...         ...\n",
       "2637  53.325001\n",
       "2638  54.715000\n",
       "2639  55.555000\n",
       "2640  51.869999\n",
       "2641  50.397499\n",
       "\n",
       "[100 rows x 1 columns]"
      ]
     },
     "execution_count": 62,
     "metadata": {},
     "output_type": "execute_result"
    }
   ],
   "source": [
    "data_training.tail(100)\n"
   ]
  },
  {
   "cell_type": "code",
   "execution_count": 77,
   "id": "d0aa76ca",
   "metadata": {},
   "outputs": [
    {
     "name": "stderr",
     "output_type": "stream",
     "text": [
      "C:\\Users\\justi\\AppData\\Local\\Temp\\ipykernel_16112\\2164542419.py:2: FutureWarning: The frame.append method is deprecated and will be removed from pandas in a future version. Use pandas.concat instead.\n",
      "  final_df=past_100_days.append(data_testing,ignore_index=True)\n"
     ]
    },
    {
     "data": {
      "text/html": [
       "<div>\n",
       "<style scoped>\n",
       "    .dataframe tbody tr th:only-of-type {\n",
       "        vertical-align: middle;\n",
       "    }\n",
       "\n",
       "    .dataframe tbody tr th {\n",
       "        vertical-align: top;\n",
       "    }\n",
       "\n",
       "    .dataframe thead th {\n",
       "        text-align: right;\n",
       "    }\n",
       "</style>\n",
       "<table border=\"1\" class=\"dataframe\">\n",
       "  <thead>\n",
       "    <tr style=\"text-align: right;\">\n",
       "      <th></th>\n",
       "      <th>Close</th>\n",
       "    </tr>\n",
       "  </thead>\n",
       "  <tbody>\n",
       "    <tr>\n",
       "      <th>0</th>\n",
       "      <td>47.209999</td>\n",
       "    </tr>\n",
       "    <tr>\n",
       "      <th>1</th>\n",
       "      <td>47.185001</td>\n",
       "    </tr>\n",
       "    <tr>\n",
       "      <th>2</th>\n",
       "      <td>46.422501</td>\n",
       "    </tr>\n",
       "    <tr>\n",
       "      <th>3</th>\n",
       "      <td>46.625000</td>\n",
       "    </tr>\n",
       "    <tr>\n",
       "      <th>4</th>\n",
       "      <td>46.365002</td>\n",
       "    </tr>\n",
       "  </tbody>\n",
       "</table>\n",
       "</div>"
      ],
      "text/plain": [
       "       Close\n",
       "0  47.209999\n",
       "1  47.185001\n",
       "2  46.422501\n",
       "3  46.625000\n",
       "4  46.365002"
      ]
     },
     "execution_count": 77,
     "metadata": {},
     "output_type": "execute_result"
    }
   ],
   "source": [
    "past_100_days=data_training.tail(100)\n",
    "final_df=past_100_days.append(data_testing,ignore_index=True)\n",
    "final_df.head()\n"
   ]
  },
  {
   "cell_type": "code",
   "execution_count": 78,
   "id": "2e43ef84",
   "metadata": {},
   "outputs": [
    {
     "data": {
      "text/plain": [
       "array([[0.07962788],\n",
       "       [0.07945721],\n",
       "       [0.07425109],\n",
       "       ...,\n",
       "       [0.94237441],\n",
       "       [0.94189642],\n",
       "       [0.93008456]])"
      ]
     },
     "execution_count": 78,
     "metadata": {},
     "output_type": "execute_result"
    }
   ],
   "source": [
    "input_data=scaler.fit_transform(final_df)\n",
    "input_data"
   ]
  },
  {
   "cell_type": "code",
   "execution_count": 79,
   "id": "1f0624f4",
   "metadata": {},
   "outputs": [
    {
     "data": {
      "text/plain": [
       "(1233, 1)"
      ]
     },
     "execution_count": 79,
     "metadata": {},
     "output_type": "execute_result"
    }
   ],
   "source": [
    "input_data.shape"
   ]
  },
  {
   "cell_type": "code",
   "execution_count": 80,
   "id": "fa99aa6e",
   "metadata": {},
   "outputs": [],
   "source": [
    "x_test=[]\n",
    "y_test=[]\n",
    "\n",
    "for i in range(100,input_data.shape[0]):\n",
    "    x_test.append(input_data[i-100:i])\n",
    "    y_test.append(input_data[i,0])"
   ]
  },
  {
   "cell_type": "code",
   "execution_count": 81,
   "id": "c7a13ff4",
   "metadata": {},
   "outputs": [
    {
     "name": "stdout",
     "output_type": "stream",
     "text": [
      "(1133, 100, 1)\n",
      "(1133,)\n"
     ]
    }
   ],
   "source": [
    "x_test,y_test=np.array(x_test),np.array(y_test)\n",
    "print(x_test.shape)\n",
    "print(y_test.shape)"
   ]
  },
  {
   "cell_type": "code",
   "execution_count": 82,
   "id": "0c84016a",
   "metadata": {},
   "outputs": [
    {
     "name": "stdout",
     "output_type": "stream",
     "text": [
      "36/36 [==============================] - 1s 35ms/step\n"
     ]
    }
   ],
   "source": [
    "y_predicted=model.predict(x_test)\n"
   ]
  },
  {
   "cell_type": "code",
   "execution_count": 83,
   "id": "5d95be9b",
   "metadata": {},
   "outputs": [
    {
     "data": {
      "text/plain": [
       "(1133, 1)"
      ]
     },
     "execution_count": 83,
     "metadata": {},
     "output_type": "execute_result"
    }
   ],
   "source": [
    "y_predicted.shape\n"
   ]
  },
  {
   "cell_type": "code",
   "execution_count": 84,
   "id": "af958ac6",
   "metadata": {},
   "outputs": [
    {
     "data": {
      "text/plain": [
       "array([[0.17524783],\n",
       "       [0.17463022],\n",
       "       [0.17395705],\n",
       "       ...,\n",
       "       [0.81918347],\n",
       "       [0.8210455 ],\n",
       "       [0.82349825]], dtype=float32)"
      ]
     },
     "execution_count": 84,
     "metadata": {},
     "output_type": "execute_result"
    }
   ],
   "source": [
    "y_predicted\n"
   ]
  },
  {
   "cell_type": "code",
   "execution_count": 85,
   "id": "4cee2b2a",
   "metadata": {},
   "outputs": [
    {
     "data": {
      "text/plain": [
       "array([0.00682769])"
      ]
     },
     "execution_count": 85,
     "metadata": {},
     "output_type": "execute_result"
    }
   ],
   "source": [
    "scaler.scale_\n"
   ]
  },
  {
   "cell_type": "code",
   "execution_count": 86,
   "id": "98fa8bba",
   "metadata": {},
   "outputs": [],
   "source": [
    "scale_factor=1/0.01162115\n",
    "y_predicted =y_predicted*scale_factor\n",
    "y_test=y_test*scale_factor"
   ]
  },
  {
   "cell_type": "code",
   "execution_count": 87,
   "id": "e2fcfaa5",
   "metadata": {
    "scrolled": true
   },
   "outputs": [
    {
     "data": {
      "image/png": "[encoded data removed]",
      "text/plain": [
       "<Figure size 2000x1000 with 1 Axes>"
      ]
     },
     "metadata": {},
     "output_type": "display_data"
    }
   ],
   "source": [
    "plt.figure(figsize=(20,10))\n",
    "plt.plot(y_test,'b',label='Original Price')\n",
    "plt.plot(y_predicted,'r',label='Predicted price')\n",
    "plt.xlabel('Time')\n",
    "plt.ylabel('Price')\n",
    "plt.legend()\n",
    "plt.show()"
   ]
  },
  {
   "cell_type": "code",
   "execution_count": null,
   "id": "f55f34a4",
   "metadata": {},
   "outputs": [],
   "source": [
    "#the reason i choose aapl and to do the last 3 year is because they are a industry leader, while also maintaining a strong\n",
    "#part of the SPX. Also I chose 3 years because that is about when covid started, and we began to see irregular trading\n",
    "#patterns. So with this said, I think the pre 2020 stock numbers could be a negative catalyst for short term trading goals."
   ]
  },
  {
   "cell_type": "code",
   "execution_count": null,
   "id": "c9f0ad04",
   "metadata": {},
   "outputs": [],
   "source": []
  }
 ],
 "metadata": {
  "kernelspec": {
   "display_name": "Python 3 (ipykernel)",
   "language": "python",
   "name": "python3"
  },
  "language_info": {
   "codemirror_mode": {
    "name": "ipython",
    "version": 3
   },
   "file_extension": ".py",
   "mimetype": "text/x-python",
   "name": "python",
   "nbconvert_exporter": "python",
   "pygments_lexer": "ipython3",
   "version": "3.9.13"
  }
 },
 "nbformat": 4,
 "nbformat_minor": 5
}
